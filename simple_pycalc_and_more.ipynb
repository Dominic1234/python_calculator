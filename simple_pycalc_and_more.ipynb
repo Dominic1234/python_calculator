{
  "nbformat": 4,
  "nbformat_minor": 0,
  "metadata": {
    "colab": {
      "provenance": [],
      "authorship_tag": "ABX9TyNtnJkxDjuhTl5ABuvD5C6N",
      "include_colab_link": true
    },
    "kernelspec": {
      "name": "python3",
      "display_name": "Python 3"
    },
    "language_info": {
      "name": "python"
    }
  },
  "cells": [
    {
      "cell_type": "markdown",
      "metadata": {
        "id": "view-in-github",
        "colab_type": "text"
      },
      "source": [
        "<a href=\"https://colab.research.google.com/github/Dominic1234/python_calculator/blob/main/simple_pycalc_and_more.ipynb\" target=\"_parent\"><img src=\"https://colab.research.google.com/assets/colab-badge.svg\" alt=\"Open In Colab\"/></a>"
      ]
    },
    {
      "cell_type": "code",
      "execution_count": null,
      "metadata": {
        "id": "9UDNwTOxwFM8",
        "colab": {
          "base_uri": "https://localhost:8080/"
        },
        "outputId": "e3bae4dc-2c6b-48cd-a4ca-0afc5bf2095e"
      },
      "outputs": [
        {
          "name": "stdout",
          "output_type": "stream",
          "text": [
            "Welcome to the python calculator!\n",
            "\n",
            "Enter a command:\n",
            "\n",
            "add\n",
            "Enter the first number:\n",
            "\n",
            "5\n",
            "Enter the second number:\n",
            "\n",
            "20\n",
            "The solution is  25 \n",
            "\n",
            "Enter a command:\n",
            "\n",
            "exit\n"
          ]
        }
      ],
      "source": [
        "#attempt no.1 simple limited calc\n",
        "\n",
        "from math import pi\n",
        "\n",
        "valid_comms = ['add','sub','mul','div','sin','cos','tan','exit']\n",
        "\n",
        "def calc(val, a, b):\n",
        "  if (val == 'add'):\n",
        "    return a+b\n",
        "  elif (val == 'sub'):\n",
        "    return a-b\n",
        "  elif (val == 'mul'):\n",
        "    return a*b\n",
        "  elif (val == 'div'):\n",
        "    return a/b\n",
        "  elif (val == 'sin'):\n",
        "    return pi.sin(a/b)\n",
        "  elif (val == 'cos'):\n",
        "    return pi.cos(a/b)\n",
        "  elif (val == 'tan'):\n",
        "    return pi.tan(a/b)\n",
        "  else:\n",
        "    raise ValueError('Invlid input')\n",
        "\n",
        "def main():\n",
        "  print('Welcome to the python calculator!\\n')\n",
        "\n",
        "  while True:\n",
        "    while True:\n",
        "      print('Enter a command:\\n')\n",
        "      command = input()\n",
        "\n",
        "      if command not in valid_comms:\n",
        "        print('Invalid command!\\n')\n",
        "      else:\n",
        "        break;\n",
        "\n",
        "    if command == 'exit':\n",
        "      break;\n",
        "\n",
        "    while True:\n",
        "      print('Enter the first number:\\n')\n",
        "      a = input()\n",
        "      try:\n",
        "        a = int(a)\n",
        "      except:\n",
        "        print('The input is not an integer\\n')\n",
        "      break;\n",
        "    while True:\n",
        "      print('Enter the second number:\\n')\n",
        "      b = input()\n",
        "      try:\n",
        "          b = int(b)\n",
        "      except:\n",
        "        print('The input isnt an integer\\n')\n",
        "      break;\n",
        "\n",
        "    ret = calc(command, a, b);\n",
        "    print('The solution is ',ret,'\\n')\n",
        "\n",
        "if __name__ == \"__main__\":\n",
        "  main()"
      ]
    },
    {
      "cell_type": "code",
      "source": [
        "#attempt no.2 postfix calc\n",
        "\n",
        "op_lst = ['+','-','/','*','%']\n",
        "\n",
        "def post_calc(lst):\n",
        "  stack = []\n",
        "  for exp in lst:\n",
        "    if exp.isdigit():\n",
        "      stack.append(int(exp))\n",
        "    elif exp in op_lst:\n",
        "      right = stack.pop()\n",
        "      left = stack.pop()\n",
        "      if exp == '+':\n",
        "        stack.append(left + right)\n",
        "      elif exp == '-':\n",
        "        stack.append(left - right)\n",
        "      elif exp == '/':\n",
        "        stack.append(left / right)\n",
        "      elif exp == '*':\n",
        "        stack.append(left * right)\n",
        "      elif exp == '%':\n",
        "        stack.append(left % right)\n",
        "      else:\n",
        "        raise ValueError('Invalid expression')\n",
        "    else:\n",
        "      raise ValueError('Invalid expression')\n",
        "  return stack[0]\n",
        "\n",
        "def main():\n",
        "  print('Enter the equation in postfix: ')\n",
        "  eqn = input()\n",
        "  eqn_lst  = [x for x in eqn]\n",
        "  res = post_calc(eqn_lst)\n",
        "  print('Your result for '+eqn+' is '+str(res))\n",
        "  return 0\n",
        "\n",
        "if __name__ == \"__main__\":\n",
        "  main()"
      ],
      "metadata": {
        "id": "_ddM1Ja7YTHv",
        "colab": {
          "base_uri": "https://localhost:8080/"
        },
        "outputId": "bd7c17bb-cc0e-4795-e33b-2228b6801d58"
      },
      "execution_count": null,
      "outputs": [
        {
          "output_type": "stream",
          "name": "stdout",
          "text": [
            "Enter the equation in postfix: \n",
            "345+-\n",
            "Your result for 345+- is -6\n"
          ]
        }
      ]
    },
    {
      "cell_type": "code",
      "source": [
        "#attempt no.3 infix expression calculator\n",
        "\n",
        "op_lst = ['+','-','/','*','%']\n",
        "\n",
        "def prec(operator):\n",
        "  prec_map = {\"+\":1,\"-\":1,\"*\":2, \"/\":2}\n",
        "  return prec_map.get(operator, 0)\n",
        "\n",
        "def post_calc(lst):\n",
        "  stack = []\n",
        "  for exp in lst:\n",
        "    if exp.isdigit():\n",
        "      stack.append(int(exp))\n",
        "    elif exp in op_lst:\n",
        "      right = stack.pop()\n",
        "      left = stack.pop()\n",
        "      if exp == '+':\n",
        "        stack.append(left + right)\n",
        "      elif exp == '-':\n",
        "        stack.append(left - right)\n",
        "      elif exp == '/':\n",
        "        stack.append(left / right)\n",
        "      elif exp == '*':\n",
        "        stack.append(left * right)\n",
        "      elif exp == '%':\n",
        "        stack.append(left % right)\n",
        "      else:\n",
        "        raise ValueError('Invalid expression:'+exp)\n",
        "    else:\n",
        "      raise ValueError('Invalid expression:'+exp)\n",
        "  return stack[0]\n",
        "\n",
        "def infix_to_postfix(exp):\n",
        "  stack = []\n",
        "  postfix = []\n",
        "  for token in exp:\n",
        "    if token.isalnum():\n",
        "      postfix.append(token)\n",
        "    elif token == \"(\":\n",
        "      stack.append(token)\n",
        "    elif token == \")\":\n",
        "      while stack and stack[-1] != \"(\":\n",
        "        postfix.append(stack.pop())\n",
        "      stack.pop()\n",
        "    elif token in op_lst and token not in \"()\":\n",
        "      while stack and prec(stack[-1]) >= prec(token):\n",
        "        postfix.append(stack.pop())\n",
        "      stack.append(token)\n",
        "    else:\n",
        "      raise ValueError(\"Invalid expression in infix conversion\")\n",
        "  while stack:\n",
        "    postfix.append(stack.pop())\n",
        "  return postfix\n",
        "\n",
        "\n",
        "print('Enter the equation in postfix with each element separated by space: ')\n",
        "eqn = input()\n",
        "eqn_lst = eqn.split(' ')\n",
        "pfix_lst = infix_to_postfix(eqn_lst)\n",
        "joined_pfix = ','.join(str(x) for x in pfix_lst)\n",
        "print(\"postfix expression: \"+joined_pfix)\n",
        "print(str(post_calc(pfix_lst)))"
      ],
      "metadata": {
        "id": "A2gm_0zxAreZ",
        "colab": {
          "base_uri": "https://localhost:8080/"
        },
        "outputId": "6b93fa77-cac4-4069-b24e-c54db39d94f2"
      },
      "execution_count": null,
      "outputs": [
        {
          "output_type": "stream",
          "name": "stdout",
          "text": [
            "Enter the equation in postfix with each element separated by space: \n",
            "100 - 20 * ( 500 - 400 )\n",
            "postfix expression: 100,20,500,400,-,*,-\n",
            "-1900\n"
          ]
        }
      ]
    },
    {
      "cell_type": "code",
      "source": [
        "# python quicksort function\n",
        "\n",
        "def quicksort(array):\n",
        "  if len(array) < 2:\n",
        "    return array\n",
        "\n",
        "  pivot = array[0]\n",
        "  less = [x for x in array[1:] if x <= pivot]\n",
        "  greater = [x for x in array[1:] if x > pivot]\n",
        "\n",
        "  return quicksort(less)+[pivot]+quicksort(greater)\n",
        "\n",
        "print(quicksort([6,3,4,6,8,3,8,9,100,29,419,184, 200,124241,24134234,234234,423423]))"
      ],
      "metadata": {
        "colab": {
          "base_uri": "https://localhost:8080/"
        },
        "id": "P5r15tbATTwh",
        "outputId": "6608e83a-ff85-49e6-841f-4cfefcbdf2cd"
      },
      "execution_count": null,
      "outputs": [
        {
          "output_type": "stream",
          "name": "stdout",
          "text": [
            "[3, 3, 4, 6, 6, 8, 8, 9, 29, 100, 184, 200, 419, 124241, 234234, 423423, 24134234]\n"
          ]
        }
      ]
    },
    {
      "cell_type": "code",
      "source": [
        "#python merge sort function\n",
        "def mergesort(array):\n",
        "\n",
        "  if len(array) < 2:\n",
        "    return array\n",
        "\n",
        "  mid = len(array)//2\n",
        "  left = mergesort(array[:mid])\n",
        "  right = mergesort(array[mid:])\n",
        "  merged = []\n",
        "\n",
        "  i = 0; j = 0\n",
        "\n",
        "  while i < len(left) and j < len(right):\n",
        "    if left[i] <= right[j]:\n",
        "      merged.append(left[i])\n",
        "      i+=1\n",
        "    else:\n",
        "      merged.append(right[j])\n",
        "      j+=1\n",
        "\n",
        "  merged += left[i:]\n",
        "  merged += right[j:]\n",
        "  return merged\n",
        "\n",
        "print(mergesort([6,3,4,6,8,3,8,9,100,29,419,184]))"
      ],
      "metadata": {
        "colab": {
          "base_uri": "https://localhost:8080/"
        },
        "id": "FKmVuK3UYubT",
        "outputId": "6d712220-2dcd-43d2-b684-c133f1c5007e"
      },
      "execution_count": null,
      "outputs": [
        {
          "output_type": "stream",
          "name": "stdout",
          "text": [
            "[3, 3, 4, 6, 6, 8, 8, 9, 29, 100, 184, 419]\n"
          ]
        }
      ]
    },
    {
      "cell_type": "code",
      "source": [
        "def myfunc(arg):\n",
        "  print(arg)\n",
        "\n",
        "count = 0\n",
        "myfunc(count)\n",
        "myfunc(200)\n",
        "count = count+1\n",
        "myfunc(count)\n"
      ],
      "metadata": {
        "colab": {
          "base_uri": "https://localhost:8080/"
        },
        "id": "7BzDzocUdkR5",
        "outputId": "c92722af-1e42-4f94-e503-4783be187842"
      },
      "execution_count": 2,
      "outputs": [
        {
          "output_type": "stream",
          "name": "stdout",
          "text": [
            "0\n",
            "200\n",
            "1\n"
          ]
        }
      ]
    },
    {
      "cell_type": "code",
      "source": [
        "#bogo sort python\n",
        "import random\n",
        "\n",
        "def is_sorted(arr):\n",
        "  if all(arr[i] <= arr[i+1] for i in range(len(arr)-1)):\n",
        "    return True\n",
        "  return False\n",
        "\n",
        "def shuffle(arr):\n",
        "  random.shuffle(arr)\n",
        "  return arr\n",
        "\n",
        "def bogo_sort(arr):\n",
        "  while is_sorted(arr) is False:\n",
        "    arr = shuffle(arr)\n",
        "  return arr\n",
        "\n",
        "lst = [1,2,3,6,5,4,124,12,645,345]\n",
        "print(bogo_sort(lst))"
      ],
      "metadata": {
        "colab": {
          "base_uri": "https://localhost:8080/"
        },
        "id": "o8M1l4BXclin",
        "outputId": "fb4f2e31-5d79-464b-f510-cad5da36da51"
      },
      "execution_count": null,
      "outputs": [
        {
          "output_type": "stream",
          "name": "stdout",
          "text": [
            "[1, 2, 3, 4, 5, 6, 12, 124, 345, 645]\n"
          ]
        }
      ]
    },
    {
      "cell_type": "code",
      "source": [
        "#Playing with classes, inheritance and access modifiers\n",
        "\n",
        "class Wheel:\n",
        "  pass\n",
        "\n",
        "class Car:\n",
        "  def __init__(self):   #private\n",
        "    pass\n",
        "\n",
        "  def __init__(self, fr_wheel, fl_wheel, br_wheel, bl_wheel):\n",
        "    pass\n",
        "\n",
        "  def _sensors_(sensor_values):  #protected\n",
        "    return sensor_values\n",
        "\n",
        "  def instruments(speed, rpms, fuel, temp):  #public\n",
        "    pass\n",
        "\n",
        "class Sedan(Car):\n",
        "  def __init__(self):\n",
        "    super().__init__()\n",
        "\n",
        "  def __init__(self, fr_wheel, fl_wheel, br_wheel, bl_wheel):\n",
        "    super().__init__(fr_wheel, fl_wheel, br_wheel, bl_wheel)\n",
        "\n",
        "class Coupe(Car):\n",
        "  pass\n",
        "\n",
        "class Hatchback(Car):\n",
        "  pass\n",
        "\n",
        "\n",
        "\n"
      ],
      "metadata": {
        "id": "zn5Os30h_TJ3"
      },
      "execution_count": null,
      "outputs": []
    },
    {
      "cell_type": "code",
      "source": [
        "name = \"Johnny\"\n",
        "age = 21\n",
        "a = [name, age]\n",
        "b = (name, age)\n",
        "print(a)\n",
        "print(b)\n",
        "age = 30\n",
        "print(a)\n",
        "print(b)"
      ],
      "metadata": {
        "colab": {
          "base_uri": "https://localhost:8080/"
        },
        "id": "gVswBKxemGU3",
        "outputId": "2761a860-7562-445b-dc76-f93edaaf5ba8"
      },
      "execution_count": 13,
      "outputs": [
        {
          "output_type": "stream",
          "name": "stdout",
          "text": [
            "['Johnny', 21]\n",
            "('Johnny', 21)\n",
            "['Johnny', 30]\n",
            "('Johnny', 21)\n"
          ]
        }
      ]
    }
  ]
}